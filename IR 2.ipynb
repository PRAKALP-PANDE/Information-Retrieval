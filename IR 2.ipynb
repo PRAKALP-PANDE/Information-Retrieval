{
 "cells": [
  {
   "cell_type": "code",
   "execution_count": 1,
   "id": "d20413ee",
   "metadata": {},
   "outputs": [],
   "source": [
    "import re\n",
    "from collections import defaultdict"
   ]
  },
  {
   "cell_type": "code",
   "execution_count": 2,
   "id": "93339cd3",
   "metadata": {},
   "outputs": [],
   "source": [
    "documents = {\n",
    "1: \"This is the first document. It contains some text.\",\n",
    "2: \"The second document is longer. It also contains some text.\",\n",
    "3: \"This is the third document. It is different from the first two.\",\n",
    "}"
   ]
  },
  {
   "cell_type": "code",
   "execution_count": 4,
   "id": "bf727422",
   "metadata": {},
   "outputs": [],
   "source": [
    "def preprocess_document(doc):\n",
    "    # Convert to lowercase and tokenize\n",
    "    tokens = re.findall(r'\\w+', doc.lower())\n",
    "    # Remove stop words (you can define your own list of stop words)\n",
    "    stop_words = set([\"is\", \"the\", \"it\", \"and\", \"some\"])\n",
    "    tokens = [token for token in tokens if token not in stop_words]\n",
    "    return tokens"
   ]
  },
  {
   "cell_type": "code",
   "execution_count": 5,
   "id": "657d9ebf",
   "metadata": {},
   "outputs": [],
   "source": [
    "inverted_index = defaultdict(list)\n",
    "\n",
    "for doc_id, doc_text in documents.items():\n",
    "    tokens = preprocess_document(doc_text)\n",
    "    for token in tokens:\n",
    "        inverted_index[token].append(doc_id)"
   ]
  },
  {
   "cell_type": "code",
   "execution_count": 6,
   "id": "aaaf17d1",
   "metadata": {},
   "outputs": [],
   "source": [
    "def retrieve_documents(query):\n",
    "    query_tokens = preprocess_document(query)\n",
    "    result = set()\n",
    "    for token in query_tokens:\n",
    "        if token in inverted_index:\n",
    "            result.update(inverted_index[token])\n",
    "    return list(result)"
   ]
  },
  {
   "cell_type": "code",
   "execution_count": 7,
   "id": "efc081b9",
   "metadata": {},
   "outputs": [],
   "source": [
    "query = \"document contains text\"\n",
    "matching_documents = retrieve_documents(query)"
   ]
  },
  {
   "cell_type": "code",
   "execution_count": 8,
   "id": "43a953c2",
   "metadata": {},
   "outputs": [
    {
     "name": "stdout",
     "output_type": "stream",
     "text": [
      "Matching documents for query 'document contains text':\n",
      "Document 1: This is the first document. It contains some text.\n",
      "Document 2: The second document is longer. It also contains some text.\n",
      "Document 3: This is the third document. It is different from the first two.\n"
     ]
    }
   ],
   "source": [
    "if matching_documents:\n",
    "    print(f\"Matching documents for query '{query}':\")\n",
    "    for doc_id in matching_documents:\n",
    "        print(f\"Document {doc_id}: {documents[doc_id]}\")\n",
    "else:\n",
    "    print(\"No matching documents found.\")"
   ]
  },
  {
   "cell_type": "markdown",
   "id": "d2d782d5",
   "metadata": {},
   "source": [
    "# Shorter"
   ]
  },
  {
   "cell_type": "code",
   "execution_count": 10,
   "id": "8841e20a",
   "metadata": {},
   "outputs": [],
   "source": [
    "import re\n",
    "from collections import defaultdict"
   ]
  },
  {
   "cell_type": "code",
   "execution_count": 11,
   "id": "26d9e97d",
   "metadata": {},
   "outputs": [],
   "source": [
    "\n",
    "documents = {\n",
    "    1: \"This is the first document. It contains some text.\",\n",
    "    2: \"The second document is longer. It also contains some text.\",\n",
    "    3: \"This is the third document. It is different from the first two.\",\n",
    "}\n",
    "\n",
    "stop_words = set([\"is\", \"the\", \"it\", \"and\", \"some\"])"
   ]
  },
  {
   "cell_type": "code",
   "execution_count": 12,
   "id": "1937e32a",
   "metadata": {},
   "outputs": [],
   "source": [
    "def preprocess_document(doc):\n",
    "    return [token for token in re.findall(r'\\w+', doc.lower()) if token not in stop_words]"
   ]
  },
  {
   "cell_type": "code",
   "execution_count": 13,
   "id": "a2f79994",
   "metadata": {},
   "outputs": [],
   "source": [
    "inverted_index = defaultdict(list)\n",
    "\n",
    "for doc_id, doc_text in documents.items():\n",
    "    tokens = preprocess_document(doc_text)\n",
    "    [inverted_index[token].append(doc_id) for token in tokens]"
   ]
  },
  {
   "cell_type": "code",
   "execution_count": 14,
   "id": "abc5ec4e",
   "metadata": {},
   "outputs": [],
   "source": [
    "def retrieve_documents(query):\n",
    "    return list(set(doc_id for token in preprocess_document(query) for doc_id in inverted_index.get(token, [])))"
   ]
  },
  {
   "cell_type": "code",
   "execution_count": 15,
   "id": "11de6ba8",
   "metadata": {},
   "outputs": [],
   "source": [
    "query = \"document contains text\"\n",
    "matching_documents = retrieve_documents(query)"
   ]
  },
  {
   "cell_type": "code",
   "execution_count": 9,
   "id": "cca9eec7",
   "metadata": {},
   "outputs": [
    {
     "name": "stdout",
     "output_type": "stream",
     "text": [
      "Matching documents for query 'document contains text':\n",
      "Document 1: This is the first document. It contains some text.\n",
      "Document 2: The second document is longer. It also contains some text.\n",
      "Document 3: This is the third document. It is different from the first two.\n"
     ]
    }
   ],
   "source": [
    "if matching_documents:\n",
    "    print(f\"Matching documents for query '{query}':\")\n",
    "    [print(f\"Document {doc_id}: {documents[doc_id]}\") for doc_id in matching_documents]\n",
    "else:\n",
    "    print(\"No matching documents found.\")"
   ]
  },
  {
   "cell_type": "code",
   "execution_count": null,
   "id": "d4cfcf34",
   "metadata": {},
   "outputs": [],
   "source": []
  }
 ],
 "metadata": {
  "kernelspec": {
   "display_name": "Python 3 (ipykernel)",
   "language": "python",
   "name": "python3"
  },
  "language_info": {
   "codemirror_mode": {
    "name": "ipython",
    "version": 3
   },
   "file_extension": ".py",
   "mimetype": "text/x-python",
   "name": "python",
   "nbconvert_exporter": "python",
   "pygments_lexer": "ipython3",
   "version": "3.11.3"
  }
 },
 "nbformat": 4,
 "nbformat_minor": 5
}
